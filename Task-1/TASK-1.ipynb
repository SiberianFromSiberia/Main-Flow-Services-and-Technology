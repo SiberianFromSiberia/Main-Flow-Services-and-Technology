{
 "cells": [
  {
   "cell_type": "code",
   "execution_count": 1,
   "id": "f97c7cbb",
   "metadata": {},
   "outputs": [
    {
     "data": {
      "text/plain": [
       "['ONE', 3, 4]"
      ]
     },
     "execution_count": 1,
     "metadata": {},
     "output_type": "execute_result"
    }
   ],
   "source": [
    "#Lists\n",
    "\n",
    "my_list=[1,2,3]\n",
    "\n",
    "#adding an element in the list\n",
    "\n",
    "my_list.append(4)\n",
    "\n",
    "#removing an element 2\n",
    "\n",
    "my_list.remove(2)\n",
    "\n",
    "#modifying an element 1 as ONE in my_list\n",
    "\n",
    "my_list[0]='ONE'\n",
    "\n",
    "#Returning the updated list\n",
    "\n",
    "my_list"
   ]
  },
  {
   "cell_type": "code",
   "execution_count": 2,
   "id": "f720476a",
   "metadata": {},
   "outputs": [
    {
     "data": {
      "text/plain": [
       "{'oranges': 4.25, 'Butter': 1.95, 'Mango': 9.9}"
      ]
     },
     "execution_count": 2,
     "metadata": {},
     "output_type": "execute_result"
    }
   ],
   "source": [
    "#Dictionary\n",
    "\n",
    "my_dict={'apple':2.99,'oranges':3.25,'Butter':1.95}\n",
    "\n",
    "#adding an element in the Dictionary\n",
    "\n",
    "my_dict['Mango']=9.9\n",
    "\n",
    "#removing an dictionary\n",
    "\n",
    "my_dict.pop('apple')\n",
    "\n",
    "#modifying an value of oranges as 4.25\n",
    "\n",
    "my_dict['oranges']=4.25\n",
    "\n",
    "#Returning the updated Dictionary\n",
    "\n",
    "my_dict"
   ]
  },
  {
   "cell_type": "code",
   "execution_count": 3,
   "id": "15019aed",
   "metadata": {},
   "outputs": [
    {
     "data": {
      "text/plain": [
       "{1, 3, 4, 5, 6, '6'}"
      ]
     },
     "execution_count": 3,
     "metadata": {},
     "output_type": "execute_result"
    }
   ],
   "source": [
    "#Sets\n",
    "\n",
    "myset={1,2,3,4,5}\n",
    "\n",
    "#adding an element in the Set\n",
    "\n",
    "myset.add(6)\n",
    "\n",
    "#removing an Element in an Set\n",
    "\n",
    "myset.remove(2)\n",
    "\n",
    "#modifying an element of 4 to 7 in Set\n",
    "\n",
    "myset.update('6')\n",
    "\n",
    "#Return the updated set\n",
    "\n",
    "myset\n",
    "\n"
   ]
  },
  {
   "cell_type": "code",
   "execution_count": null,
   "id": "36c3cc33",
   "metadata": {},
   "outputs": [],
   "source": []
  },
  {
   "cell_type": "code",
   "execution_count": null,
   "id": "0c3d618c",
   "metadata": {},
   "outputs": [],
   "source": []
  }
 ],
 "metadata": {
  "kernelspec": {
   "display_name": "Python 3 (ipykernel)",
   "language": "python",
   "name": "python3"
  },
  "language_info": {
   "codemirror_mode": {
    "name": "ipython",
    "version": 3
   },
   "file_extension": ".py",
   "mimetype": "text/x-python",
   "name": "python",
   "nbconvert_exporter": "python",
   "pygments_lexer": "ipython3",
   "version": "3.9.13"
  }
 },
 "nbformat": 4,
 "nbformat_minor": 5
}
